{
 "cells": [
  {
   "cell_type": "code",
   "execution_count": 6,
   "metadata": {},
   "outputs": [
    {
     "name": "stdout",
     "output_type": "stream",
     "text": [
      "1\n",
      "None\n"
     ]
    }
   ],
   "source": [
    "def binary_search(list, item):\n",
    "    low = 0\n",
    "    high = len(list)-1\n",
    "    while low <= high:\n",
    "        mid = int((low + high)/2)     # 如果是float， 怎样约成int， 四舍五入，还是直接向下取整？\n",
    "        guess = list[mid]         #list need to be familiar.\n",
    "        if guess == item:\n",
    "            #return guess        # why return index-mid?\n",
    "            return mid\n",
    "        if guess > item:\n",
    "            high = mid - 1 # why -1? ----> since already guess that list\n",
    "        else:\n",
    "            low = mid + 1\n",
    "    return None\n",
    "\n",
    "my_list = [1, 3, 5, 7, 9]\n",
    "\n",
    "print(binary_search(my_list, 3))\n",
    "print(binary_search(my_list, -1))\n",
    "                "
   ]
  },
  {
   "cell_type": "code",
   "execution_count": null,
   "metadata": {},
   "outputs": [],
   "source": []
  }
 ],
 "metadata": {
  "kernelspec": {
   "display_name": "Python 3",
   "language": "python",
   "name": "python3"
  },
  "language_info": {
   "codemirror_mode": {
    "name": "ipython",
    "version": 3
   },
   "file_extension": ".py",
   "mimetype": "text/x-python",
   "name": "python",
   "nbconvert_exporter": "python",
   "pygments_lexer": "ipython3",
   "version": "3.6.5"
  }
 },
 "nbformat": 4,
 "nbformat_minor": 2
}
